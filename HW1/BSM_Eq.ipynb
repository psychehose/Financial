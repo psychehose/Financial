{
 "cells": [
  {
   "cell_type": "code",
   "execution_count": 1,
   "metadata": {},
   "outputs": [],
   "source": [
    "def BSM_call(S, K, tau, r, sigma):\n",
    "    import numpy as np\n",
    "    import scipy.stats\n",
    "    \n",
    "    d1 = (np.log(S / K) + (r + 0.5 * sigma**2) * tau) / (sigma * np.sqrt(tau))\n",
    "    d2 = d1 - sigma * np.sqrt(tau)\n",
    "    \n",
    "    return S * scipy.stats.norm.cdf(d1, 0, 1) - K * np.exp(-r * tau) * scipy.stats.norm.cdf(d2, 0, 1)"
   ]
  },
  {
   "cell_type": "code",
   "execution_count": 2,
   "metadata": {},
   "outputs": [],
   "source": [
    "tau = 20\n",
    "K = 200\n",
    "S = 255.09\n",
    "r = 0.0168\n",
    "sigma = 0.0099"
   ]
  },
  {
   "cell_type": "code",
   "execution_count": 3,
   "metadata": {},
   "outputs": [
    {
     "name": "stdout",
     "output_type": "stream",
     "text": [
      "112.16537883678853\n"
     ]
    }
   ],
   "source": [
    "call_bsm = BSM_call(S, K, tau, r, sigma)\n",
    "print(call_bsm)"
   ]
  },
  {
   "cell_type": "code",
   "execution_count": null,
   "metadata": {
    "collapsed": true
   },
   "outputs": [],
   "source": []
  }
 ],
 "metadata": {
  "kernelspec": {
   "display_name": "Python 3",
   "language": "python",
   "name": "python3"
  },
  "language_info": {
   "codemirror_mode": {
    "name": "ipython",
    "version": 3
   },
   "file_extension": ".py",
   "mimetype": "text/x-python",
   "name": "python",
   "nbconvert_exporter": "python",
   "pygments_lexer": "ipython3",
   "version": "3.8.5"
  }
 },
 "nbformat": 4,
 "nbformat_minor": 2
}
